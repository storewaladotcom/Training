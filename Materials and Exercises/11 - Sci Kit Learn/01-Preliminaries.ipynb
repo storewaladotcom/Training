{
 "cells": [
  {
   "cell_type": "markdown",
   "metadata": {},
   "source": [
    "# An Introduction to scikit-learn: Machine Learning in Python"
   ]
  },
  {
   "cell_type": "markdown",
   "metadata": {},
   "source": [
    "## Goals of this Tutorial"
   ]
  },
  {
   "cell_type": "markdown",
   "metadata": {},
   "source": [
    "- **Introduce the basics of Machine Learning**, and some skills useful in practice.\n",
    "- **Introduce the syntax of scikit-learn**, so that you can make use of the rich toolset available."
   ]
  },
  {
   "cell_type": "markdown",
   "metadata": {},
   "source": [
    "## Outline:"
   ]
  },
  {
   "cell_type": "markdown",
   "metadata": {},
   "source": [
    "\n",
    "\n",
    "**Basic Principles of Machine Learning and the Scikit-learn Interface**\n",
    "* What is Machine Learning?\n",
    "* Machine learning data layout\n",
    "* Supervised Learning\n",
    "    - Classification\n",
    "    - Regression\n",
    "    - Measuring performance\n",
    "* Unsupervised Learning\n",
    "    - Clustering\n",
    "    - Dimensionality Reduction\n",
    "    - Density Estimation\n",
    "* Evaluation of Learning Models\n",
    "* Choosing the right algorithm for your dataset\n",
    "\n",
    "** Supervised learning in-depth **\n",
    "* Support Vector Machines\n",
    "* Decision Trees and Random Forests\n",
    "\n",
    "** Short break **\n",
    "\n",
    "** Unsupervised learning in-depth **\n",
    "* Dimensionality Reduction: Principal Component Analysis\n",
    "* Clustering: K Means\n",
    "* Density Estimation: Gaussian Mixture Models\n",
    "* Application: image color compression\n",
    "\n",
    "** Validation and Model Selection **\n",
    "* Overfitting, Underfitting, bias, and variance\n",
    "* Improving your fit: validation curves and learning curves\n",
    "* Application: facial recognition"
   ]
  },
  {
   "cell_type": "markdown",
   "metadata": {},
   "source": [
    "## Useful Resources"
   ]
  },
  {
   "cell_type": "markdown",
   "metadata": {},
   "source": [
    "- **scikit-learn:** http://scikit-learn.org (see especially the narrative documentation)\n",
    "- **matplotlib:** http://matplotlib.org (see especially the gallery section)\n",
    "- **IPython:** http://ipython.org (also check out http://nbviewer.ipython.org)"
   ]
  }
 ],
 "metadata": {
  "kernelspec": {
   "display_name": "Python 2",
   "language": "python",
   "name": "python2"
  },
  "language_info": {
   "codemirror_mode": {
    "name": "ipython",
    "version": 2
   },
   "file_extension": ".py",
   "mimetype": "text/x-python",
   "name": "python",
   "nbconvert_exporter": "python",
   "pygments_lexer": "ipython2",
   "version": "2.7.11"
  }
 },
 "nbformat": 4,
 "nbformat_minor": 0
}
