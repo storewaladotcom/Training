{
 "cells": [
  {
   "cell_type": "code",
   "execution_count": null,
   "metadata": {
    "collapsed": false
   },
   "outputs": [],
   "source": [
    "%matplotlib inline\n",
    "import pandas as pd"
   ]
  },
  {
   "cell_type": "code",
   "execution_count": null,
   "metadata": {
    "collapsed": false
   },
   "outputs": [],
   "source": [
    "titles = pd.DataFrame.from_csv('data/titles.csv', index_col=None)\n",
    "titles.head()"
   ]
  },
  {
   "cell_type": "code",
   "execution_count": null,
   "metadata": {
    "collapsed": false
   },
   "outputs": [],
   "source": [
    "cast = pd.DataFrame.from_csv('data/cast.csv', index_col=None)\n",
    "cast.head()"
   ]
  },
  {
   "cell_type": "code",
   "execution_count": null,
   "metadata": {
    "collapsed": false
   },
   "outputs": [],
   "source": [
    "# Define a year as a \"Superman year\"\n",
    "# whose films feature more Superman characters than Batman.\n",
    "# How many years in film history have been Superman years?\n",
    "\n",
    "c = cast\n",
    "c = c[(c.character == 'Superman') | (c.character == 'Batman')]\n",
    "c = c.groupby(['year', 'character']).size()\n",
    "c = c.unstack()\n",
    "c = c.fillna(0)\n",
    "c.head()"
   ]
  },
  {
   "cell_type": "code",
   "execution_count": null,
   "metadata": {
    "collapsed": false
   },
   "outputs": [],
   "source": [
    "d = c.Superman - c.Batman\n",
    "print('Superman years:')\n",
    "print(len(d[d > 0.0]))"
   ]
  },
  {
   "cell_type": "code",
   "execution_count": null,
   "metadata": {
    "collapsed": false
   },
   "outputs": [],
   "source": [
    "# How many years have been \"Batman years\",\n",
    "# with more Batman characters than Superman characters?\n",
    "\n",
    "print('Batman years:')\n",
    "print(len(d[d < 0.0]))"
   ]
  },
  {
   "cell_type": "code",
   "execution_count": null,
   "metadata": {
    "collapsed": false
   },
   "outputs": [],
   "source": [
    "# Plot the number of actor roles each year\n",
    "# and the number of actress roles each year\n",
    "# over the history of film.\n",
    "\n",
    "c = cast\n",
    "c = c.groupby(['year', 'type']).size()\n",
    "c = c.unstack('type')\n",
    "c.plot()"
   ]
  },
  {
   "cell_type": "code",
   "execution_count": null,
   "metadata": {
    "collapsed": false
   },
   "outputs": [],
   "source": [
    "# Plot the number of actor roles each year\n",
    "# and the number of actress roles each year,\n",
    "# but this time as a kind='area' plot.\n",
    "\n",
    "c = cast\n",
    "c = c.groupby(['year', 'type']).size()\n",
    "c = c.unstack('type')\n",
    "c.plot(kind='area')"
   ]
  },
  {
   "cell_type": "code",
   "execution_count": null,
   "metadata": {
    "collapsed": false
   },
   "outputs": [],
   "source": [
    "# Plot the difference between the number of actor roles each year\n",
    "# and the number of actress roles each year over the history of film.\n",
    "\n",
    "c = cast\n",
    "c = c.groupby(['year', 'type']).size()\n",
    "c = c.unstack('type')\n",
    "(c.actor - c.actress).plot()"
   ]
  },
  {
   "cell_type": "code",
   "execution_count": null,
   "metadata": {
    "collapsed": false
   },
   "outputs": [],
   "source": [
    "# Plot the fraction of roles that have been 'actor' roles\n",
    "# each year in the hitsory of film.\n",
    "\n",
    "c = cast\n",
    "c = c.groupby(['year', 'type']).size()\n",
    "c = c.unstack('type')\n",
    "(c.actor / (c.actor + c.actress)).plot(ylim=[0,1])"
   ]
  },
  {
   "cell_type": "code",
   "execution_count": null,
   "metadata": {
    "collapsed": false
   },
   "outputs": [],
   "source": [
    "# Plot the fraction of supporting (n=2) roles\n",
    "# that have been 'actor' roles\n",
    "# each year in the history of film.\n",
    "\n",
    "c = cast\n",
    "c = c[c.n == 2]\n",
    "c = c.groupby(['year', 'type']).size()\n",
    "c = c.unstack('type')\n",
    "(c.actor / (c.actor + c.actress)).plot(ylim=[0,1])"
   ]
  },
  {
   "cell_type": "code",
   "execution_count": null,
   "metadata": {
    "collapsed": false
   },
   "outputs": [],
   "source": [
    "# Build a plot with a line for each rank n=1 through n=3,\n",
    "# where the line shows what fraction of that rank's roles\n",
    "# were 'actor' roles for each year in the history of film.\n",
    "\n",
    "c = cast\n",
    "c = c[c.n <= 3]\n",
    "c = c.groupby(['year', 'type', 'n']).size()\n",
    "c = c.unstack('type')\n",
    "r = c.actor / (c.actor + c.actress)\n",
    "r = r.unstack('n')\n",
    "r.plot(ylim=[0,1])"
   ]
  }
 ],
 "metadata": {
  "kernelspec": {
   "display_name": "Python 2",
   "language": "python",
   "name": "python2"
  },
  "language_info": {
   "codemirror_mode": {
    "name": "ipython",
    "version": 2
   },
   "file_extension": ".py",
   "mimetype": "text/x-python",
   "name": "python",
   "nbconvert_exporter": "python",
   "pygments_lexer": "ipython2",
   "version": "2.7.11"
  }
 },
 "nbformat": 4,
 "nbformat_minor": 0
}
