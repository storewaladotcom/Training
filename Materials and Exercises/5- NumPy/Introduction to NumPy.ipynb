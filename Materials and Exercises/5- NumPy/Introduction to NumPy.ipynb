{
 "cells": [
  {
   "cell_type": "markdown",
   "metadata": {},
   "source": [
    "# Introduction to NumPy\n",
    "\n",
    "In the following section of the training course, we will be going over the basics of NumPy.\n",
    "\n",
    "NumPy is a Linear Algebra Library for Python and many data analysis libraries are built on top of it. In this section we have a few lectures and then some exercises, as well as a full Guidebook pdf for you.\n",
    "\n",
    "Here's a link to the documentation's quick tutorial:\n",
    "\n",
    "https://docs.scipy.org/doc/numpy-dev/user/quickstart.html"
   ]
  }
 ],
 "metadata": {
  "kernelspec": {
   "display_name": "Python 2",
   "language": "python",
   "name": "python2"
  },
  "language_info": {
   "codemirror_mode": {
    "name": "ipython",
    "version": 2
   },
   "file_extension": ".py",
   "mimetype": "text/x-python",
   "name": "python",
   "nbconvert_exporter": "python",
   "pygments_lexer": "ipython2",
   "version": "2.7.11"
  }
 },
 "nbformat": 4,
 "nbformat_minor": 0
}
