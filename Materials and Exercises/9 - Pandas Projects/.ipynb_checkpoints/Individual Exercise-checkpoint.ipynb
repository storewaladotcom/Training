{
 "cells": [
  {
   "cell_type": "markdown",
   "metadata": {},
   "source": [
    "# Exploring real health care data using pandas.\n",
    "\n",
    "\n",
    " ** Goal: Find the hospital that will charge the least amount of money for \"Viral Meningitis\" **\n",
    "\n",
    "\n",
    "We will be using the data file `hospital-costs.csv` located in the data folder.\n",
    "\n",
    "Here is how to start off.  \n",
    "\n",
    "1.  `df = pd.read_csv(\"../data/hospital-costs.csv\")`  \n",
    "2.  Now, look at and familiarize yourself with the dataset you will be working with.  \n",
    "3.  Keep the official pandas documentation handy and apply generously as needed. http://pandas.pydata.org/pandas-docs/stable/"
   ]
  },
  {
   "cell_type": "code",
   "execution_count": null,
   "metadata": {
    "collapsed": true
   },
   "outputs": [],
   "source": []
  },
  {
   "cell_type": "markdown",
   "metadata": {},
   "source": [
    "<br>\n",
    "\n",
    "The amount in the charge/costs columns is the price per discharge. Most hospitals treat many people with the same illness.  The amount they treat is the number in the \"Discharges\" column.\n",
    "<br>\n",
    "### It is your job to calculate all the cost totals.\n",
    "1. Create a new column called something easy to remember that is the \"Discharges\" * \"Mean Charge\".  \n",
    "2. Do the same for the \"Mean Cost\".\n",
    "2. With theses two new \"Total Charges\" and \"Total Costs\" columns, calculate the markup rate.\n",
    "3. Tell me which procedure has the highest markup, and which one has the lowest markup\n",
    "\n",
    "Results:\n",
    "\n",
    "#### Lowest\n",
    "| Facility Name | ... | Total Charge | Total Cost | Markup|\n",
    "| ------------- |---|:-------------:| -----:|------|\n",
    "|TLC Health Network Tri-County Memorial Hospital | ...|  1540540    | 97482510  | 0.015803|\n",
    "\n",
    "#### Highest\n",
    "| Facility Name | ... | Total Charge | Total Cost | Markup|\n",
    "| ------------- |---|:-------------:| -----:|------|\n",
    "| SUNY Downstate Medical Center at LICH | ... | 43088   | 2068  | 20.835590|\n",
    "\n",
    "<br>"
   ]
  },
  {
   "cell_type": "code",
   "execution_count": null,
   "metadata": {
    "collapsed": true
   },
   "outputs": [],
   "source": []
  },
  {
   "cell_type": "markdown",
   "metadata": {},
   "source": [
    "# Out of curiosity...\n",
    "I wonder what everyone is going to the hospital for...\n",
    "Use a groupby method on the Description column and sum the Discharges.\n",
    "\n",
    "1.  What are the top 10 reasons people are going to the hospital for, and how many people did they see.\n",
    "\n",
    "# Now, lets follow the money...\n",
    "Now we want to see which hospital has the most money coming.\n",
    "To keep this from getting messy, lets create a new DataFrame with only the columns we care about.  \n",
    "*  Create a new DataFrame named \"net\" that is only the Facility Name, Total Charge, Total Cost from our original DataFrame  \n",
    "*  Find the total amount much each hospital spent, and how much they charged. (Group your data by Facility names, and sum all the total costs and total charges)\n",
    "*  Now find the net income for every hospital. Tell me the most profitable and the least profitable ones and how much are they making?\n",
    "\n",
    "\n",
    "| Facility Name | Total Charge | Total Cost | Net Income |\n",
    "|---|---|---|---|\n",
    "| Adirondack Medical Center-Saranac Lake Site|141573499.0|77427664.0|64145835.0 |\n",
    "| Albany Medical Center - South Clinical Campus|1802808.0|1432784.0|370024.0 |\n",
    "| Albany Medical Center Hospital|3763945310.0|1336298908.0|2427646402.0 |\n",
    "| Albany Memorial Hospital|221974029.0|94907174.0|127066855.0 |\n",
    "\n",
    "<br>"
   ]
  },
  {
   "cell_type": "code",
   "execution_count": null,
   "metadata": {
    "collapsed": true
   },
   "outputs": [],
   "source": []
  },
  {
   "cell_type": "markdown",
   "metadata": {},
   "source": [
    "# Now, lets focus in on \"Viral Meningitis\"\n",
    "1. Create a new dataframe that only contains the data correspoindng to \"Viral Meningitis\"\n",
    "1.  ``` newdf = df[df[\"APR DRG Description\"] == \"Viral Meningitis\"]]```\n",
    "2. Now, with our newdf, only keep the data columns we care about which are: `[\"Facility Name\", \"APR DRG Description\",\"APR Severity of Illness Description\",\"Discharges\", \"Mean Charge\", \"Median Charge\", \"Mean Cost\"]`\n",
    "<br>\n",
    "\n",
    "3. Our newdf should look somewhat like this:\n",
    "\n",
    "|Facility Name|APR DRG Description|APR Severity of Illness Description|Discharges|Mean Charge|Median Charge|Mean Cost|\n",
    "|----|----|----|----|----|----|----|\n",
    "|Adirondack Medical Center-Saranac Lake Site|Viral Meningitis|Minor|1|17116.0|17116.0|7006.0|\n",
    "|Albany Medical Center Hospital|Viral Meningitis|Minor|19|13212.0|11914.0|4569.0|\n",
    "|Albany Medical Center Hospital|Viral Meningitis|Moderate|11|21197.0|14197.0|7131.0|\n",
    "|Albany Medical Center Hospital|Viral Meningitis|Major|6|28074.0|22846.0|7495.0|\n",
    "---\n",
    "\n",
    "<br>\n",
    "\n",
    "3. Find which hospital is the least expensive for treating Moderate cases of VM. [*note example below is the most expensive not the least*]\n",
    "\n",
    "\n",
    "|Facility Name|APR DRG Description|APR Severity of Illness Description|Discharges|Mean Charge|Median Charge|Mean Cost|\n",
    "|----|----|----|----|----|----|----|\n",
    "|Beth Israel Med Center-Kings Hwy Div|Viral Meningitis|Moderate|1|71663.0|71663.0|12658.0|\n",
    "|Lutheran Medical Center|Viral Meningitis|Moderate|2|71850.0|71850.0|50605.0|\n",
    "|New York Presbyterian Hospital - Downtown Division|Viral Meningitis|Moderate|1|76528.0|76528.0|27563.0|\n",
    "|St Lukes Roosevelt Hospital - St Lukes Hospital Division|Viral Meningitis|Moderate|4|79245.0|48006.0|24743.0|\n",
    "|Orange Regional Medical Center|Viral Meningitis|Moderate|1|84003.0|84003.0|23143.0|\n",
    "---\n",
    "<br>\n",
    "\n",
    "4. Find which hospital is the least expensive for treating Moderate cases of VM **that have at least 3 or more Discarges**.\n",
    "\n",
    "|Facility Name|APR DRG Description|APR Severity of Illness Description|Discharges|Mean Charge|Median Charge|Mean Cost|\n",
    "|----|----|----|----|----|----|----|\n",
    "|Cayuga Medical Center at Ithaca|Viral Meningitis|Moderate|6|5738.0|5111.0|3949.0|\n",
    "|Women And Children's Hospital Of Buffalo|Viral Meningitis|Moderate|31|6601.0|6182.0|2770.0|\n",
    "|Millard Fillmore Suburban Hospital|Viral Meningitis|Moderate|6|6614.0|6784.0|2649.0|\n",
    "\n",
    "<br>\n",
    "\n",
    "# Data can be tricky.  \n",
    "1. Which illness has the most discharges?  It seems like an easy query, but data can be tricky.\n",
    "\n",
    "Notice the \"APR DRG Description\" should be unique for each hospital, however, hospitals also have a label for how sever that illness is.  So each illness can be listed up to four times. They are separated and labeled accordingly with the \"APR Severity of Illness Description\".  This is annoying because it just is.\n",
    "**To account for this you have to do a *double group by*... **\n",
    "*   Group the APR DRG Description with the of severity for each Illness.\n",
    "*  What is the most expensive type of illness?  \n",
    "\n",
    "---\n",
    "\n",
    "1. Find which hospital discharges the most cases of Viral Meningitis for all levels of severity.\n",
    "\n",
    "| Facility Name | ... | Discharges |\n",
    "| ------------- |-----|:----------:|\n",
    "| North Shore University Hospital | ... | 158 |\n",
    "| Montefiore Medical Center - Henry & Lucy Moses Div | ... | 152 |\n",
    "| Strong Memorial Hospital | ... | 117 |\n",
    "\n",
    "<br>\n",
    "\n",
    "\n",
    "5. Find if there is a correlation between # of Discharges a hospital has and how much they charge. Hint use df.corr() *http://pandas.pydata.org/pandas-docs/stable/computation.html#correlation*\n",
    "\n",
    "---"
   ]
  },
  {
   "cell_type": "code",
   "execution_count": null,
   "metadata": {
    "collapsed": true
   },
   "outputs": [],
   "source": []
  }
 ],
 "metadata": {
  "kernelspec": {
   "display_name": "Python 2",
   "language": "python",
   "name": "python2"
  },
  "language_info": {
   "codemirror_mode": {
    "name": "ipython",
    "version": 2
   },
   "file_extension": ".py",
   "mimetype": "text/x-python",
   "name": "python",
   "nbconvert_exporter": "python",
   "pygments_lexer": "ipython2",
   "version": "2.7.11"
  }
 },
 "nbformat": 4,
 "nbformat_minor": 0
}
