{
 "cells": [
  {
   "cell_type": "markdown",
   "metadata": {},
   "source": [
    "# NumPy Exercises\n",
    "\n",
    "Below are 24 functions for you to fill out using NumPy! \n",
    "Refer to the GuideBook in the NumPy Section as a resource for more information, or the offical documentation [here](http://www.numpy.org/)"
   ]
  },
  {
   "cell_type": "code",
   "execution_count": null,
   "metadata": {
    "collapsed": true
   },
   "outputs": [],
   "source": [
    "### Fill in each function below. Each function should be a one-liner.\n",
    "import numpy as np\n",
    "\n",
    "# Part One:  Matrix vs Vectors\n",
    "#==============================\n",
    "\n",
    "def one():\n",
    "    '''\n",
    "    INPUT: NONE\n",
    "    OUTPUT: A numpy row vector of 100 sequential numbers starting at zero and ending at 99. (matrix)\n",
    "    Create a row vector with numpy (1 x 100).\n",
    "    Example:\n",
    "    >>>\n",
    "    >>> answer = one()\n",
    "    >>> print answer\n",
    "    >>> [[ 0  1  2  3  4 ... 99 ]]\n",
    "    '''\n",
    "    return np.arange(0,100,1).reshape(1,100)"
   ]
  },
  {
   "cell_type": "code",
   "execution_count": null,
   "metadata": {
    "collapsed": true
   },
   "outputs": [],
   "source": [
    "def two():\n",
    "    '''\n",
    "    INPUT: NONE\n",
    "    OUTPUT: A column vector of 100 sequential floats all between 0 and 50. (matrix)\n",
    "    Create a column vector with numpy (100 x 1).\n",
    "    Example:\n",
    "    >>>\n",
    "    >>> cv = two()\n",
    "    >>> print cv\n",
    "    >>> [[  0.        ]\n",
    "         [  0.50505051]\n",
    "         [  1.01010101]\n",
    "         ...\n",
    "          [ 50.        ]]\n",
    "    '''\n",
    "    return (one()*50.0/99).reshape(100,1)"
   ]
  },
  {
   "cell_type": "code",
   "execution_count": null,
   "metadata": {
    "collapsed": true
   },
   "outputs": [],
   "source": [
    "def three():\n",
    "    '''\n",
    "    INPUT: NONE\n",
    "    OUTPUT: A 6 x 6 numpy matrix\n",
    "    Create a square 6 by 6 matrix\n",
    "    Example:\n",
    "    >>>\n",
    "    >>> M = three()\n",
    "    >>> print M\n",
    "    >>> [[ 0  1  2  3  4  5]\n",
    "         [ 6  7  8  9 10 11]\n",
    "         [12 13 14 15 16 17]\n",
    "         [18 19 20 21 22 23]\n",
    "         [24 25 26 27 28 29]\n",
    "         [30 31 32 33 34 35]]\n",
    "    '''\n",
    "    return np.arange(0,36,1).reshape(6,6)"
   ]
  },
  {
   "cell_type": "code",
   "execution_count": null,
   "metadata": {
    "collapsed": true
   },
   "outputs": [],
   "source": [
    "def four():\n",
    "    '''\n",
    "    INPUT: NONE\n",
    "    OUTPUT: A random 2 x 3 numpy matrix\n",
    "    Create a random 2 x 3 matrix.\n",
    "    You should be able to do this with one command  (look at the numpy random module).\n",
    "    Example:\n",
    "    >>>\n",
    "    >>> M = four()\n",
    "    >>> print M\n",
    "    >>> [[7 8 2]\n",
    "         [9 4 3]]\n",
    "    '''\n",
    "    return np.random.randint(10, size=(2, 3))"
   ]
  },
  {
   "cell_type": "code",
   "execution_count": null,
   "metadata": {
    "collapsed": true
   },
   "outputs": [],
   "source": [
    "def five():\n",
    "    '''\n",
    "    Create a 6 x 6 identity matrix.\n",
    "    INPUT: NONE\n",
    "    OUTPUT: 6 x 6 identity matrix\n",
    "    Example:\n",
    "    >>> I = five()\n",
    "    >>> print I\n",
    "    >>> [[ 1.  0.  0.  0.  0.  0.]\n",
    "         [ 0.  1.  0.  0.  0.  0.]\n",
    "         [ 0.  0.  1.  0.  0.  0.]\n",
    "         [ 0.  0.  0.  1.  0.  0.]\n",
    "         [ 0.  0.  0.  0.  1.  0.]\n",
    "         [ 0.  0.  0.  0.  0.  1.]]\n",
    "    '''\n",
    "    return np.identity(6) #eye() possible as well"
   ]
  },
  {
   "cell_type": "code",
   "execution_count": null,
   "metadata": {
    "collapsed": true
   },
   "outputs": [],
   "source": [
    "def six():\n",
    "    '''\n",
    "    Create a (10 x 10) matrix with sequential ints 0 through 99.\n",
    "    Example:\n",
    "    >>> print answer\n",
    "    >>>> [[ 0  1  2  3  4  5  6  7  8  9]\n",
    "          [10 11 12 13 14 15 16 17 18 19]\n",
    "          [20 21 22 23 24 25 26 27 28 29]\n",
    "          [30 31 32 33 34 35 36 37 38 39]\n",
    "          [40 41 42 43 44 45 46 47 48 49]\n",
    "          [50 51 52 53 54 55 56 57 58 59]\n",
    "          [60 61 62 63 64 65 66 67 68 69]\n",
    "          [70 71 72 73 74 75 76 77 78 79]\n",
    "          [80 81 82 83 84 85 86 87 88 89]\n",
    "          [90 91 92 93 94 95 96 97 98 99]]\n",
    "    '''\n",
    "    return np.arange(0,100,1).reshape(10,10)"
   ]
  },
  {
   "cell_type": "code",
   "execution_count": null,
   "metadata": {
    "collapsed": true
   },
   "outputs": [],
   "source": [
    "def seven():\n",
    "    '''\n",
    "    INPUT: Matrix output from function six.\n",
    "    OUTPUT:  First three columns of Matrix from function six.\n",
    "    Call function six() and save it as M,\n",
    "    Return just the first 3 columns of M\n",
    "    Example:\n",
    "    >>> M = six()\n",
    "    >>> print seven(M)\n",
    "    >>> [[ 0  1  2]\n",
    "         [10 11 12]\n",
    "         [20 21 22]\n",
    "         [30 31 32]\n",
    "         [40 41 42]\n",
    "         [50 51 52]\n",
    "         [60 61 62]\n",
    "         [70 71 72]\n",
    "         [80 81 82]\n",
    "         [90 91 92]]\n",
    "    '''\n",
    "\n",
    "    return six()[:,0:3]"
   ]
  },
  {
   "cell_type": "code",
   "execution_count": null,
   "metadata": {
    "collapsed": true
   },
   "outputs": [],
   "source": [
    "def eight():\n",
    "    '''\n",
    "    INPUT: Matrix output from function six.\n",
    "    OUTPUT:  Last two ROWS of Matrix from function six.\n",
    "    Example:\n",
    "    >>> M = six()\n",
    "    >>> print eight(M)\n",
    "    >>> [[80 81 82 83 84 85 86 87 88 89]\n",
    "         [90 91 92 93 94 95 96 97 98 99]]\n",
    "    '''\n",
    "    return six()[8:,:]"
   ]
  },
  {
   "cell_type": "code",
   "execution_count": null,
   "metadata": {
    "collapsed": true
   },
   "outputs": [],
   "source": [
    "# PART 2: SCALAR OPERATIONS\n",
    "# =========================\n",
    "\n",
    "def nine():\n",
    "    '''\n",
    "    INPUT: None\n",
    "    OUTPUT: A numpy array with values [ [0,1,2,3,4,5,6,7,8,9] ]\n",
    "    Create this numpy array (called V): [ [0,1,2,3,4,5,6,7,8,9] ]\n",
    "    '''\n",
    "    return np.arange(0,10,1).reshape(1,10)"
   ]
  },
  {
   "cell_type": "code",
   "execution_count": null,
   "metadata": {
    "collapsed": true
   },
   "outputs": [],
   "source": [
    "def ten(V):\n",
    "    '''\n",
    "    INPUT: V ( matrix from nine() )\n",
    "    OUTPUT: [[ 0.5  1.5  2.5  3.5  4.5  5.5  6.5  7.5  8.5  9.5]]\n",
    "    Do a scalar addition by 0.5 to V.\n",
    "    '''\n",
    "    return V + 0.5"
   ]
  },
  {
   "cell_type": "code",
   "execution_count": null,
   "metadata": {
    "collapsed": true
   },
   "outputs": [],
   "source": [
    "def eleven(V):\n",
    "    '''\n",
    "    INPUT: V (matrix from nine() )\n",
    "    Do a scalar multiple by -2.\n",
    "    OUTPUT:  [[  0  -2  -4  -6  -8 -10 -12 -14 -16 -18]]\n",
    "    '''\n",
    "    return V*-2"
   ]
  },
  {
   "cell_type": "code",
   "execution_count": null,
   "metadata": {
    "collapsed": true
   },
   "outputs": [],
   "source": [
    "def twelve(V):\n",
    "    '''\n",
    "    INPUT: V ( matrix from nine() )\n",
    "    OUTPUT: answer = V+B\n",
    "    Create a 1 by 10 vector 'B',\n",
    "    that when added to V,  will yeild the same results as function ten\n",
    "    V + B = [[ 0.5  1.5  2.5  3.5  4.5  5.5  6.5  7.5  8.5  9.5]]\n",
    "    Return your answer\n",
    "    '''\n",
    "    return V + np.ones(10)*0.5\n"
   ]
  },
  {
   "cell_type": "code",
   "execution_count": null,
   "metadata": {
    "collapsed": true
   },
   "outputs": [],
   "source": [
    "# PART 3: MATRIX / VECTOR Multiplication\n",
    "# ======================================\n",
    "def thirteen():\n",
    "    '''\n",
    "    Create column vector with 3 ints, called as column_vector.\n",
    "    Create a row vector with 3 ints, called as row_vector.\n",
    "    Create 3 x 3 square matrix called and square_matrix:\n",
    "    Return as column_vector, row_vector, square_matrix (IN THAT ORDER)\n",
    "    '''\n",
    "    column_vector = np.arange(0,3,1).reshape(3,1)\n",
    "    row_vector = np.arange(0,3,1).reshape(1,3)\n",
    "    square_matrix = row_vector*column_vector\n",
    "    return column_vector, row_vector, square_matrix"
   ]
  },
  {
   "cell_type": "code",
   "execution_count": null,
   "metadata": {
    "collapsed": true
   },
   "outputs": [],
   "source": [
    "def fourteen(column_vector, row_vector):\n",
    "    '''\n",
    "    INPUT: Using column_vector and row_vector from thirteen() as the inputs\n",
    "    OUTPUT:  n x m shaped vector where n is number of rows in row_vector and m is number of cols in col_vec\n",
    "    Perform a vector vector multiply on column_vector and row_vector.\n",
    "    This should output a n x m matrix where n is the number of rows in row_vector and m is the number of columns in column_vector.\n",
    "    Say column_vector is a 2 x 1 and row_vector is a 1 x 3, output will be a 2 x 3 matrix.\n",
    "    '''\n",
    "\n",
    "    return column_vector*row_vector"
   ]
  },
  {
   "cell_type": "code",
   "execution_count": null,
   "metadata": {
    "collapsed": true
   },
   "outputs": [],
   "source": [
    "def fifteen(column_vector, row_vector, square_matrix):\n",
    "    '''\n",
    "    INPUT: Using column_vector and row_vector from thirteen() as the inputs\n",
    "    OUTPUT:  return c_answer, r_answer\n",
    "    c_answer is the matrix multiplication of column_vector and square_matrix\n",
    "    r_answer is the matrix multiplication of row_vector and square_matrix\n",
    "    For both column_vector and row_vector, matrix multiply by square_matrix.\n",
    "    One will have to go on the left and one will have to go on the right.\n",
    "    If it lets you do both directions,\n",
    "        you probably are doing elementwise multiplication instead of matrix multiplication!\n",
    "    Make sure you return c_answer first\n",
    "    return c_answer, r_answer\n",
    "    '''\n",
    "\n",
    "    return square_matrix.dot(column_vector), row_vector.dot(square_matrix)"
   ]
  },
  {
   "cell_type": "code",
   "execution_count": null,
   "metadata": {
    "collapsed": true
   },
   "outputs": [],
   "source": [
    "def sixteen(column_vector, row_vector):\n",
    "    '''\n",
    "    Compute the dot product of row_vector and column_vector.\n",
    "    '''\n",
    "    return row_vector.dot(column_vector)"
   ]
  },
  {
   "cell_type": "code",
   "execution_count": null,
   "metadata": {
    "collapsed": true
   },
   "outputs": [],
   "source": [
    "# PART 4: MATRIX MATRIX MULTIPLICATION\n",
    "# ====================================\n",
    "def seventeen():\n",
    "    '''\n",
    "    question one:  If A is a 3 x 2 and B is a 4 x 3, can you matrix multiply them (AB)?\n",
    "    If question_one is true, set variable 'answer_one' equal to True, if false, set 'answer_one' equal to False\n",
    "    question two: If so, what is the shape?\n",
    "    If answer_one is True, set variable 'answer_two' equal to the shape of the matrix, if False, set 'answer_two' equal to None\n",
    "    question three:  Can you matrix multiply them in the other direction (BA)?\n",
    "        If true, set variable 'answer_three' equal to True, if false, set 'answer_three' equal to False\n",
    "    four:  If so, what's the shape of that?\n",
    "        If answer_three is True, set variable 'answer_four' to be the shape of the matrix in answer_three, if False set 'answer_four' equal to None\n",
    "    OUTPUT: answer_one BOOLEAN,\n",
    "            answer_two Tuple or None,\n",
    "            answer_three BOOLEAN,\n",
    "            answer_four Tuple or None\n",
    "    '''\n",
    "\n",
    "    A = np.arange(0,6,1).reshape(3,2)\n",
    "    B = np.arange(0,12,1).reshape(4,3)\n",
    "    \n",
    "    \n",
    "    answer_one = A.shape[1] == B.shape[0]\n",
    "    answer_three = B.shape[1] == A.shape[0]\n",
    "    \n",
    "    answer_two = None\n",
    "    answer_four = None\n",
    "    \n",
    "    \n",
    "    if answer_one:\n",
    "        answer_two = (A.shape[0],B.shape[1])\n",
    "\n",
    "    if answer_three:\n",
    "        answer_four = (B.shape[0],A.shape[1])\n",
    "\n",
    "    return answer_one, answer_two, answer_three,answer_four"
   ]
  },
  {
   "cell_type": "code",
   "execution_count": null,
   "metadata": {
    "collapsed": true
   },
   "outputs": [],
   "source": [
    "def eighteen():\n",
    "    '''\n",
    "    Create a random 3 x 6 matrix as 'rand_matrix'.\n",
    "    Matrix multiply rand_matrix and the transpose of rand_matrix.\n",
    "    INPUT: None\n",
    "    OUTPUT: answer_one  NUMPY MATRIX\n",
    "    '''\n",
    "    rand_matrix = np.random.randint(10, size=(3, 6))\n",
    "    return rand_matrix, rand_matrix.transpose(), rand_matrix.dot(rand_matrix.transpose())"
   ]
  },
  {
   "cell_type": "code",
   "execution_count": null,
   "metadata": {
    "collapsed": true
   },
   "outputs": [],
   "source": [
    "# PART 5: Elementwise Matrix Operations\n",
    "#======================================\n",
    "def nineteen():\n",
    "    '''\n",
    "    Create 2 random 6 x 2 matrices as A and B.\n",
    "    Square A (this will be the same shape).\n",
    "    Add, subtract, multiply and divide A and B (This will be the same shape).\n",
    "    INPUT: None\n",
    "    OUTPUT: answer_square, answer_add, answer_subtract, answer_multiply,\n",
    "            answer_divide\n",
    "    '''\n",
    "    A = np.random.randint(10, size=(6, 2))\n",
    "    B = np.random.randint(10, size=(6, 2))\n",
    "    return A*A,A+B,A-B,A*B,A/B"
   ]
  },
  {
   "cell_type": "code",
   "execution_count": null,
   "metadata": {
    "collapsed": true
   },
   "outputs": [],
   "source": [
    "def twenty():\n",
    "    '''\n",
    "    Create two matricies, A and B.\n",
    "    Make Matrix 'A' a 4x1 shaped matrix with values 1 through 4.\n",
    "    A = [ [1], [2], [3], [4] ]\n",
    "    Make matrix B a 1x3 matrix that look like this:\n",
    "    B = [[ 100.  200.  300.]]\n",
    "    answer = add Matrix A to Matrix B\n",
    "    return answer\n",
    "    '''\n",
    "    A = np.arange(1,5,1).reshape(4,1)\n",
    "    B = np.arange(100,400,100).reshape(1,3)\n",
    "    \n",
    "    return A+B"
   ]
  },
  {
   "cell_type": "code",
   "execution_count": null,
   "metadata": {
    "collapsed": true
   },
   "outputs": [],
   "source": [
    "def twenty_one():\n",
    "    '''\n",
    "    Create a 10 x 10 matrix of FLOATS that looks just like this\n",
    "    DO NOT JUST COPY AND PASTE THIS MATRIX, YOU MUST CREATE THIS PROGRAMMATICALLY\n",
    "    Hint, np.linspace()\n",
    "    M = [[  0.   1.   2.   3.   4.   5.   6.   7.   8.   9.]\n",
    "         [ 10.  11.  12.  13.  14.  15.  16.  17.  18.  19.]\n",
    "         [ 20.  21.  22.  23.  24.  25.  26.  27.  28.  29.]\n",
    "         [ 30.  31.  32.  33.  34.  35.  36.  37.  38.  39.]\n",
    "         [ 40.  41.  42.  43.  44.  45.  46.  47.  48.  49.]\n",
    "         [ 50.  51.  52.  53.  54.  55.  56.  57.  58.  59.]\n",
    "         [ 60.  61.  62.  63.  64.  65.  66.  67.  68.  69.]\n",
    "         [ 70.  71.  72.  73.  74.  75.  76.  77.  78.  79.]\n",
    "         [ 80.  81.  82.  83.  84.  85.  86.  87.  88.  89.]\n",
    "         [ 90.  91.  92.  93.  94.  95.  96.  97.  98.  99.]]\n",
    "    '''\n",
    "    return  np.linspace(0,99,num=100).reshape(10,10)"
   ]
  },
  {
   "cell_type": "code",
   "execution_count": null,
   "metadata": {
    "collapsed": true
   },
   "outputs": [],
   "source": [
    "def twenty_two(M):\n",
    "    '''\n",
    "    Calculate the sum, mean, and standard deviation of the matrix we created in function twent_one\n",
    "    INPUT: M is matrix from function twenty_one\n",
    "    OUTPUT:  M_sum, M_mean, M_std  (please return variables in that order)\n",
    "    Example:\n",
    "    M_sum = 5050.0\n",
    "    '''\n",
    "    return M.sum(), M.mean(), M.std()"
   ]
  },
  {
   "cell_type": "code",
   "execution_count": null,
   "metadata": {
    "collapsed": true
   },
   "outputs": [],
   "source": [
    "def twenty_three(M):\n",
    "    '''\n",
    "    Calculate the column wise sums, mean and standard deviation of the matrix.\n",
    "    INPUT: M is matrix from function twenty_one\n",
    "    OUTPUT:  col_sum, col_mean, col_std  (please return variables in that order)\n",
    "    Example\n",
    "    col_sum = [ 460.  470.  480.  490.  500.  510.  520.  530.  540.  550.]\n",
    "    '''\n",
    "    return M.sum(axis=0), M.mean(axis=0), M.std(axis=0)"
   ]
  },
  {
   "cell_type": "code",
   "execution_count": null,
   "metadata": {
    "collapsed": true
   },
   "outputs": [],
   "source": [
    "def twenty_four(M):\n",
    "    '''\n",
    "    Calculate the row wise sums, mean and standard deviation of the matrix.\n",
    "    INPUT: M is matrix from function twenty_one\n",
    "    OUTPUT:  row_sum, row_mean, row_std   (please return variables in that order)\n",
    "    Example:\n",
    "    row_sum = [  55.  155.  255.  355.  455.  555.  655.  755.  855.  955.]\n",
    "    '''\n",
    "    return M.sum(axis=1), M.mean(axis=1), M.std(axis=1)"
   ]
  }
 ],
 "metadata": {
  "kernelspec": {
   "display_name": "Python 2",
   "language": "python",
   "name": "python2"
  },
  "language_info": {
   "codemirror_mode": {
    "name": "ipython",
    "version": 2
   },
   "file_extension": ".py",
   "mimetype": "text/x-python",
   "name": "python",
   "nbconvert_exporter": "python",
   "pygments_lexer": "ipython2",
   "version": "2.7.11"
  }
 },
 "nbformat": 4,
 "nbformat_minor": 0
}
