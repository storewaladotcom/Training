{
 "cells": [
  {
   "cell_type": "markdown",
   "metadata": {},
   "source": [
    "# 100 NumPy Questions\n",
    "\n",
    "Here is a link to [100 questions for NumPy](http://www.labri.fr/perso/nrougier/teaching/numpy.100/index.html) with difficulty rating ranked from 1 to 5 stars. Note that the answers are on the same page as the questions. \n",
    "\n",
    "Here is how to hide the answers:\n",
    "\n",
    "1.) Highlight and drag the text below to your favorites bar in Google Chrome (or Firefox)"
   ]
  },
  {
   "cell_type": "markdown",
   "metadata": {},
   "source": [
    "javascript:\n",
    "(function(){\n",
    "boxes = document.getElementsByClassName('python code');\n",
    "for (var i = 0; i < boxes.length; i++){boxes[i].style.backgroundColor=\"#333\"; boxes[i].onmouseover=function(){this.style.backgroundColor=\"#eee\"};boxes[i].onmouseout=function(){this.style.backgroundColor=\"#333\"}}})()"
   ]
  },
  {
   "cell_type": "markdown",
   "metadata": {},
   "source": [
    "2.) Then go to the link for [100 questions for NumPy](http://www.labri.fr/perso/nrougier/teaching/numpy.100/index.html)"
   ]
  },
  {
   "cell_type": "markdown",
   "metadata": {},
   "source": [
    "3.) Then click on the bookmark you made with the JavaScript text when viewing the page to blackout the answers.\n",
    "\n",
    "I'll show an example of these steps in class!"
   ]
  },
  {
   "cell_type": "markdown",
   "metadata": {},
   "source": [
    "** Great job for Day 1! **"
   ]
  }
 ],
 "metadata": {
  "kernelspec": {
   "display_name": "Python 2",
   "language": "python",
   "name": "python2"
  },
  "language_info": {
   "codemirror_mode": {
    "name": "ipython",
    "version": 2
   },
   "file_extension": ".py",
   "mimetype": "text/x-python",
   "name": "python",
   "nbconvert_exporter": "python",
   "pygments_lexer": "ipython2",
   "version": "2.7.11"
  }
 },
 "nbformat": 4,
 "nbformat_minor": 0
}
